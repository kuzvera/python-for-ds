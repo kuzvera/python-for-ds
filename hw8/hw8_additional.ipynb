{
 "cells": [
  {
   "cell_type": "code",
   "execution_count": 2,
   "id": "cc09d07c-8e86-43a2-b39b-6b7d2d19e4cd",
   "metadata": {},
   "outputs": [
    {
     "name": "stdout",
     "output_type": "stream",
     "text": [
      "Survived       1.000000\n",
      "Sex_numeric    0.538826\n",
      "Fare           0.268189\n",
      "Parch          0.093317\n",
      "SibSp         -0.017358\n",
      "Age           -0.077221\n",
      "Pclass        -0.359653\n",
      "Name: Survived, dtype: float64\n"
     ]
    }
   ],
   "source": [
    "import pandas as pd\n",
    "\n",
    "df = pd.read_csv('titanic.csv')\n",
    "df['Sex_numeric'] = df['Sex'].map({'female': 1, 'male': 0})\n",
    "\n",
    "num_cols = ['Age', 'Fare', 'Pclass', 'SibSp', 'Parch', 'Survived', 'Sex_numeric']\n",
    "df_num = df[num_cols].copy()\n",
    "df_clean = df_num.dropna()\n",
    "\n",
    "corr_mat = df_clean.corr(method='pearson')\n",
    "surv_corr = corr_mat['Survived'].sort_values(ascending=False)\n",
    "\n",
    "print(surv_corr)"
   ]
  },
  {
   "cell_type": "code",
   "execution_count": 5,
   "id": "df33c56b-f6e7-4e59-80ed-9c71523416f3",
   "metadata": {},
   "outputs": [
    {
     "name": "stdout",
     "output_type": "stream",
     "text": [
      "Sex_numeric\n"
     ]
    }
   ],
   "source": [
    "top_positive_var = surv_corr.index[1]\n",
    "print(top_positive_var)"
   ]
  },
  {
   "cell_type": "code",
   "execution_count": null,
   "id": "dc8bef3a-a174-431c-9589-a263d33e19d8",
   "metadata": {},
   "outputs": [],
   "source": [
    "#Найвищу позитивну кореляцію з Survived має Sex (додала в числові значення, де 1 - жінка, 0 - чоловік)\n",
    "#Отже, жінки (1) значно більше вціліли, ніж чоловіки (0).\n",
    "#В контексті даної задачі - це означає, що жінкам надавалася перевага на спасіння (“women and children first”)"
   ]
  },
  {
   "cell_type": "code",
   "execution_count": 6,
   "id": "d406e64a-c2d3-4dc3-adcd-6722fb37c1e6",
   "metadata": {},
   "outputs": [
    {
     "name": "stdout",
     "output_type": "stream",
     "text": [
      "Pclass\n"
     ]
    }
   ],
   "source": [
    "top_negative_var = surv_corr.index[-1]\n",
    "print(top_negative_var)"
   ]
  },
  {
   "cell_type": "code",
   "execution_count": null,
   "id": "aef011b7-9ef3-4ca8-934c-f9693a898992",
   "metadata": {},
   "outputs": [],
   "source": [
    "#Негативна кореляція означає: Зростання номера класу (перехід із 1-го в 3-й) знижує шанси на виживання.\n",
    "#Пасажири вищих класів (1-го і 2-го) мали кращий доступ до рятувальних шлюпок і вціліли частіше за пасажирів 3-го класу."
   ]
  },
  {
   "cell_type": "code",
   "execution_count": 7,
   "id": "527272b8-2737-475c-8274-7fbd0a5bbbf6",
   "metadata": {},
   "outputs": [
    {
     "name": "stdout",
     "output_type": "stream",
     "text": [
      "-0.5541824708598451\n"
     ]
    }
   ],
   "source": [
    "pclass_fare_corr = corr_mat.loc['Pclass', 'Fare']\n",
    "print(pclass_fare_corr)"
   ]
  },
  {
   "cell_type": "code",
   "execution_count": null,
   "id": "c2fc53c3-f816-4b4f-a806-e6ca5999e148",
   "metadata": {},
   "outputs": [],
   "source": [
    "#Оскільки вищі класи мають менший цифровий індекс (1 < 3), а одночасно сплачували більші тарифи (Fare), \n",
    "#зростання Pclass (до 3-го) асоціюється з меншими тарифами.\n",
    "\n",
    "#Пасажири 1-го класу мали вищі тарифи на квитки,\n",
    "#Третій клас був найдешевшим.\n"
   ]
  },
  {
   "cell_type": "code",
   "execution_count": null,
   "id": "a2e5ed6e-d567-4b4c-8485-094f4580a687",
   "metadata": {},
   "outputs": [],
   "source": [
    "#Таким чином, головними факторами, що впливали на виживання, стали \n",
    "# - стать (жінки значно вціліли частіше) та \n",
    "# - клас квитка (пасажири вищих класів мали кращі шанси). \n",
    "\n",
    "\n",
    "#Кореляція між Pclass і Fare лише підсилює розуміння: \n",
    "#1-й клас був найдорожчим і водночас найпрестижнішим у контексті доступу до рятувальних засобів."
   ]
  }
 ],
 "metadata": {
  "kernelspec": {
   "display_name": "Python 3 (ipykernel)",
   "language": "python",
   "name": "python3"
  },
  "language_info": {
   "codemirror_mode": {
    "name": "ipython",
    "version": 3
   },
   "file_extension": ".py",
   "mimetype": "text/x-python",
   "name": "python",
   "nbconvert_exporter": "python",
   "pygments_lexer": "ipython3",
   "version": "3.11.1"
  }
 },
 "nbformat": 4,
 "nbformat_minor": 5
}
