{
 "cells": [
  {
   "cell_type": "code",
   "execution_count": 2,
   "id": "940e26f3-546f-4de8-a6e5-5f16199da548",
   "metadata": {},
   "outputs": [
    {
     "name": "stdout",
     "output_type": "stream",
     "text": [
      "   PassengerId  Survived  Pclass  \\\n",
      "0            1         0       3   \n",
      "1            2         1       1   \n",
      "2            3         1       3   \n",
      "3            4         1       1   \n",
      "4            5         0       3   \n",
      "\n",
      "                                                Name     Sex   Age  SibSp  \\\n",
      "0                            Braund, Mr. Owen Harris    male  22.0      1   \n",
      "1  Cumings, Mrs. John Bradley (Florence Briggs Th...  female  38.0      1   \n",
      "2                             Heikkinen, Miss. Laina  female  26.0      0   \n",
      "3       Futrelle, Mrs. Jacques Heath (Lily May Peel)  female  35.0      1   \n",
      "4                           Allen, Mr. William Henry    male  35.0      0   \n",
      "\n",
      "   Parch            Ticket     Fare Cabin Embarked  \n",
      "0      0         A/5 21171   7.2500   NaN        S  \n",
      "1      0          PC 17599  71.2833   C85        C  \n",
      "2      0  STON/O2. 3101282   7.9250   NaN        S  \n",
      "3      0            113803  53.1000  C123        S  \n",
      "4      0            373450   8.0500   NaN        S  \n"
     ]
    }
   ],
   "source": [
    "import pandas as pd\n",
    "\n",
    "#1. Використовуючи контейнер, створений в попередній домашній роботі, завантажити дані Титаника з таблиці.2.\n",
    "df = pd.read_csv('titanic.csv')\n",
    "print(df.head())"
   ]
  },
  {
   "cell_type": "code",
   "execution_count": 4,
   "id": "cf7efd53-b244-4068-9797-a686865039dd",
   "metadata": {},
   "outputs": [
    {
     "name": "stdout",
     "output_type": "stream",
     "text": [
      "    Age     Fare  Pclass  SibSp  Parch  Survived\n",
      "0  22.0   7.2500       3      1      0         0\n",
      "1  38.0  71.2833       1      1      0         1\n",
      "2  26.0   7.9250       3      0      0         1\n",
      "3  35.0  53.1000       1      1      0         1\n",
      "4  35.0   8.0500       3      0      0         0\n"
     ]
    }
   ],
   "source": [
    "#2. Створити новий DataFrame, який міститиме тільки числові колонки: 'Age', 'Fare', 'Pclass', 'SibSp', 'Parch', 'Survived'.\n",
    "num_cols = ['Age', 'Fare', 'Pclass', 'SibSp', 'Parch', 'Survived']\n",
    "df_num = df[num_cols].copy()\n",
    "print(df_num.head())"
   ]
  },
  {
   "cell_type": "code",
   "execution_count": 5,
   "id": "21142081-852d-41ed-bb63-bebffe92ca3a",
   "metadata": {},
   "outputs": [],
   "source": [
    "#3. Очистити дані: видалити всі рядки, в яких є пропущені значення.\n",
    "df_clean = df_num.dropna()"
   ]
  },
  {
   "cell_type": "code",
   "execution_count": 6,
   "id": "4ace8c9c-f2aa-45a6-a2c3-4c8ead6daad3",
   "metadata": {},
   "outputs": [
    {
     "name": "stdout",
     "output_type": "stream",
     "text": [
      "               Age      Fare    Pclass     SibSp     Parch  Survived\n",
      "Age       1.000000  0.096067 -0.369226 -0.308247 -0.189119 -0.077221\n",
      "Fare      0.096067  1.000000 -0.554182  0.138329  0.205119  0.268189\n",
      "Pclass   -0.369226 -0.554182  1.000000  0.067247  0.025683 -0.359653\n",
      "SibSp    -0.308247  0.138329  0.067247  1.000000  0.383820 -0.017358\n",
      "Parch    -0.189119  0.205119  0.025683  0.383820  1.000000  0.093317\n",
      "Survived -0.077221  0.268189 -0.359653 -0.017358  0.093317  1.000000\n"
     ]
    }
   ],
   "source": [
    "#4. Обчислити кореляційну матрицю по Спірмену або Пірсону (за вибором)\n",
    "corr_mat = df_clean.corr(method='pearson')\n",
    "print (corr_mat)"
   ]
  },
  {
   "cell_type": "code",
   "execution_count": 7,
   "id": "8a9ba858-a10e-415c-8e8c-6680c3ff3ecd",
   "metadata": {},
   "outputs": [
    {
     "name": "stdout",
     "output_type": "stream",
     "text": [
      "Survived    1.000000\n",
      "Fare        0.268189\n",
      "Parch       0.093317\n",
      "SibSp      -0.017358\n",
      "Age        -0.077221\n",
      "Pclass     -0.359653\n",
      "Name: Survived, dtype: float64\n"
     ]
    }
   ],
   "source": [
    "#5. Відсортувати змінні за кореляцією з колонкою 'Survived' (хто найбільше/найменше впливає на виживання).\n",
    "surv_corr = corr_mat['Survived'].sort_values(ascending=False)\n",
    "print(surv_corr)"
   ]
  }
 ],
 "metadata": {
  "kernelspec": {
   "display_name": "Python 3 (ipykernel)",
   "language": "python",
   "name": "python3"
  },
  "language_info": {
   "codemirror_mode": {
    "name": "ipython",
    "version": 3
   },
   "file_extension": ".py",
   "mimetype": "text/x-python",
   "name": "python",
   "nbconvert_exporter": "python",
   "pygments_lexer": "ipython3",
   "version": "3.11.1"
  }
 },
 "nbformat": 4,
 "nbformat_minor": 5
}
