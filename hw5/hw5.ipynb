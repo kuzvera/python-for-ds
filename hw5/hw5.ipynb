{
 "cells": [
  {
   "cell_type": "code",
   "execution_count": 12,
   "id": "40598dff-4b9f-45f4-afe9-aa87fd1cd24d",
   "metadata": {},
   "outputs": [],
   "source": [
    "import pandas as pd\n",
    "\n",
    "# 1. Завантажте CSV-файл\n",
    "df = pd.read_csv('extended_sales_data.csv')"
   ]
  },
  {
   "cell_type": "code",
   "execution_count": 13,
   "id": "ee42a49a-7bfc-420b-9db0-a5a891f6ff14",
   "metadata": {},
   "outputs": [
    {
     "name": "stdout",
     "output_type": "stream",
     "text": [
      "Перші 5 рядків:\n",
      "   Customer_ID         Name       City  Purchase_Amount Purchase_Date\n",
      "0            1    Eve Black   New York              NaN    2024-01-01\n",
      "1            2     John Doe    Houston           790.10    2024-01-08\n",
      "2            3    Bob Brown    Chicago           871.69    2024-01-15\n",
      "3            4    Bob Brown   New York           440.83    2024-01-22\n",
      "4            5  Grace Green  San Diego              NaN    2024-01-29 \n",
      "\n",
      "Останні 5 рядків:\n",
      "    Customer_ID           Name          City  Purchase_Amount Purchase_Date\n",
      "95           96       John Doe   San Antonio           206.71    2025-10-27\n",
      "96           97     Jane Smith  Philadelphia              NaN    2025-11-03\n",
      "97           98  Alice Johnson        Dallas           735.98    2025-11-10\n",
      "98           99    Carol White       Chicago            78.93    2025-11-17\n",
      "99          100  Alice Johnson       Houston           759.64    2025-11-24 \n",
      "\n"
     ]
    }
   ],
   "source": [
    "# 2. Виведіть перші 5 і останні 5 рядків, щоб оглянути структуру даних.\n",
    "\n",
    "print(\"Перші 5 рядків:\")\n",
    "print(df.head(), '\\n')\n",
    "\n",
    "print(\"Останні 5 рядків:\")\n",
    "print(df.tail(), '\\n')"
   ]
  },
  {
   "cell_type": "code",
   "execution_count": 14,
   "id": "c55f3c3c-384e-4f13-add7-dd59f75f09e5",
   "metadata": {},
   "outputs": [
    {
     "name": "stdout",
     "output_type": "stream",
     "text": [
      "(84, 5)\n",
      "    Customer_ID           Name          City  Purchase_Amount Purchase_Date\n",
      "1             2       John Doe       Houston           790.10    2024-01-08\n",
      "2             3      Bob Brown       Chicago           871.69    2024-01-15\n",
      "3             4      Bob Brown      New York           440.83    2024-01-22\n",
      "5             6        Ivy Red  Philadelphia            81.56    2024-02-05\n",
      "6             7      Bob Brown      San Jose           983.45    2024-02-12\n",
      "..          ...            ...           ...              ...           ...\n",
      "94           95      Eve Black       Phoenix           244.62    2025-10-20\n",
      "95           96       John Doe   San Antonio           206.71    2025-10-27\n",
      "97           98  Alice Johnson        Dallas           735.98    2025-11-10\n",
      "98           99    Carol White       Chicago            78.93    2025-11-17\n",
      "99          100  Alice Johnson       Houston           759.64    2025-11-24\n",
      "\n",
      "[84 rows x 5 columns]\n"
     ]
    }
   ],
   "source": [
    "# 3. Видаліть усі рядки з пропущеними значеннями, а також усі дубл\n",
    "\n",
    "df_clean = df.dropna()\n",
    "df_clean = df_clean.drop_duplicates()\n",
    "\n",
    "print(df_clean.shape)\n",
    "print(df_clean)"
   ]
  },
  {
   "cell_type": "code",
   "execution_count": 15,
   "id": "24998b7c-3720-48ff-9897-d949015785c4",
   "metadata": {},
   "outputs": [
    {
     "name": "stdout",
     "output_type": "stream",
     "text": [
      "   Customer_ID         Name       City  Purchase_Amount Purchase_Date\n",
      "0            1    Eve Black   New York       554.764524    2024-01-01\n",
      "1            2     John Doe    Houston       790.100000    2024-01-08\n",
      "2            3    Bob Brown    Chicago       871.690000    2024-01-15\n",
      "3            4    Bob Brown   New York       440.830000    2024-01-22\n",
      "4            5  Grace Green  San Diego       554.764524    2024-01-29\n"
     ]
    }
   ],
   "source": [
    "# 4. Замініть пропущені значення у стовпці з ціною на середнє значення цього стовпця.\n",
    "\n",
    "mean_price = df['Purchase_Amount'].mean()\n",
    "df['Purchase_Amount'] = df['Purchase_Amount'].fillna(mean_price)\n",
    "\n",
    "print(df.head())"
   ]
  }
 ],
 "metadata": {
  "kernelspec": {
   "display_name": "Python 3 (ipykernel)",
   "language": "python",
   "name": "python3"
  },
  "language_info": {
   "codemirror_mode": {
    "name": "ipython",
    "version": 3
   },
   "file_extension": ".py",
   "mimetype": "text/x-python",
   "name": "python",
   "nbconvert_exporter": "python",
   "pygments_lexer": "ipython3",
   "version": "3.11.1"
  }
 },
 "nbformat": 4,
 "nbformat_minor": 5
}
