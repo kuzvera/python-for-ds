{
 "cells": [
  {
   "cell_type": "code",
   "execution_count": 1,
   "id": "8d8e92f3-1e64-4938-adf1-ca0edaa67570",
   "metadata": {},
   "outputs": [
    {
     "name": "stdout",
     "output_type": "stream",
     "text": [
      "[[44 73 32]\n",
      " [10 95 46]\n",
      " [21 32 37]]\n",
      "\n",
      "sum =  390\n",
      "\n",
      "min =  10  index =  3\n",
      "max =  95  index =  4\n",
      "\n",
      "sorted array = \n",
      " [[32 44 73]\n",
      " [10 46 95]\n",
      " [21 32 37]]\n"
     ]
    }
   ],
   "source": [
    "import numpy as np\n",
    "\n",
    "array = np.random.randint(low=1, high=100, size=(3,3))\n",
    "print(array)\n",
    "sum = np.sum(array)\n",
    "print(\"\\nsum = \", sum)\n",
    "print(\"\\nmin = \", np.min(array), \" index = \", np.argmin(array))\n",
    "print(\"max = \", np.max(array), \" index = \", np.argmax(array))\n",
    "\n",
    "print(\"\\nsorted array = \\n\", np.sort(array))"
   ]
  }
 ],
 "metadata": {
  "kernelspec": {
   "display_name": "Python 3 (ipykernel)",
   "language": "python",
   "name": "python3"
  },
  "language_info": {
   "codemirror_mode": {
    "name": "ipython",
    "version": 3
   },
   "file_extension": ".py",
   "mimetype": "text/x-python",
   "name": "python",
   "nbconvert_exporter": "python",
   "pygments_lexer": "ipython3",
   "version": "3.11.1"
  }
 },
 "nbformat": 4,
 "nbformat_minor": 5
}
