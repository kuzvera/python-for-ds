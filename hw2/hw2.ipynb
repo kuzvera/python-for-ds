{
 "cells": [
  {
   "cell_type": "code",
   "execution_count": 1,
   "id": "fe220ae3-5015-4ff1-8599-b4bc419bead9",
   "metadata": {},
   "outputs": [
    {
     "name": "stdout",
     "output_type": "stream",
     "text": [
      "[ 71 -69 -36 -45  52  19  41  45 -44   6 -51  12 -58  26 -66 -53  87  77\n",
      " -34  27  83 -23 -72 -50 -72 -84 -41  31 -73 -75  68  -2  -5 -97  26 -29\n",
      "  96  64 -64 -89  66  21 -87  98   8 -11 -76  99 -51 -57 -96  91 -38 -48\n",
      "  -5 -55 -19  41 -79  73  88  44  81  34 -92  78  28  53   5  29  24  15\n",
      " -76 -26  69 -72  56  65  53  27 -44  18  10 -29  93 -24  54  46 -44   1\n",
      "  63 -21  89 -43 -75  46  39 -99 -42  53 -26  96  53  16  44  62  54  34\n",
      "  -7  29   3 -89 -91 -71 -47  -1  80  69  66  20 -91  27 -53 -93  52   8\n",
      "   8 -47  77 -43  76  48  51   7  79  97 -22  82 -50 -48 -79 -14  48 -48\n",
      " -36 -16  25 -67 -83  74 -64 -24   2 -42  23  61 -75  -2  49  34  56  86\n",
      " -15 -76  84  37  23 -43 -92  -4 -34 -37 -63 -73  79  55  33  22  78   9\n",
      "  46 -35  33  95 -47  83  38 -19   3  39  28  11  70 -11  34 -57  -4  64\n",
      "  15 -16]\n"
     ]
    }
   ],
   "source": [
    "import numpy as np\n",
    "\n",
    "#1. Створіть одновимірний масив з 200 випадкових чисел від -100 до 100.\n",
    "arr = np.random.randint(-100,100, 200)\n",
    "print(arr)"
   ]
  },
  {
   "cell_type": "code",
   "execution_count": 2,
   "id": "18e790cf-a480-4e3f-88c4-3fe45f682bd2",
   "metadata": {},
   "outputs": [
    {
     "name": "stdout",
     "output_type": "stream",
     "text": [
      "Маска:\n",
      " [ True False False False  True  True  True  True False  True False  True\n",
      " False  True False False  True  True False  True  True False False False\n",
      " False False False  True False False  True False False False  True False\n",
      "  True  True False False  True  True False  True  True False False  True\n",
      " False False False  True False False False False False  True False  True\n",
      "  True  True  True  True False  True  True  True  True  True  True  True\n",
      " False False  True False  True  True  True  True False  True  True False\n",
      "  True False  True  True False  True  True False  True False False  True\n",
      "  True False False  True False  True  True  True  True  True  True  True\n",
      " False  True  True False False False False False  True  True  True  True\n",
      " False  True False False  True  True  True False  True False  True  True\n",
      "  True  True  True  True False  True False False False False  True False\n",
      " False False  True False False  True False False  True False  True  True\n",
      " False False  True  True  True  True False False  True  True  True False\n",
      " False False False False False False  True  True  True  True  True  True\n",
      "  True False  True  True False  True  True False  True  True  True  True\n",
      "  True False  True False False  True  True False]\n",
      "\n",
      "Відфільтрований масив:\n",
      " [71 52 19 41 45  6 12 26 87 77 27 83 31 68 26 96 64 66 21 98  8 99 91 41\n",
      " 73 88 44 81 34 78 28 53  5 29 24 15 69 56 65 53 27 18 10 93 54 46  1 63\n",
      " 89 46 39 53 96 53 16 44 62 54 34 29  3 80 69 66 20 27 52  8  8 77 76 48\n",
      " 51  7 79 97 82 48 25 74  2 23 61 49 34 56 86 84 37 23 79 55 33 22 78  9\n",
      " 46 33 95 83 38  3 39 28 11 70 34 64 15]\n"
     ]
    }
   ],
   "source": [
    "#2. Використовуючи маску, відфільтруйте всі додатні числа в масиві.\n",
    "mask = arr > 0\n",
    "\n",
    "print('Маска:\\n', mask)\n",
    "print('\\nВідфільтрований масив:\\n', arr[mask])"
   ]
  },
  {
   "cell_type": "code",
   "execution_count": 3,
   "id": "71432c63-0d14-4078-b92f-6141cc6cee32",
   "metadata": {},
   "outputs": [
    {
     "name": "stdout",
     "output_type": "stream",
     "text": [
      "[71  0  0  0 52 19 41 45  0  6  0 12  0 26  0  0 87 77  0 27 83  0  0  0\n",
      "  0  0  0 31  0  0 68  0  0  0 26  0 96 64  0  0 66 21  0 98  8  0  0 99\n",
      "  0  0  0 91  0  0  0  0  0 41  0 73 88 44 81 34  0 78 28 53  5 29 24 15\n",
      "  0  0 69  0 56 65 53 27  0 18 10  0 93  0 54 46  0  1 63  0 89  0  0 46\n",
      " 39  0  0 53  0 96 53 16 44 62 54 34  0 29  3  0  0  0  0  0 80 69 66 20\n",
      "  0 27  0  0 52  8  8  0 77  0 76 48 51  7 79 97  0 82  0  0  0  0 48  0\n",
      "  0  0 25  0  0 74  0  0  2  0 23 61  0  0 49 34 56 86  0  0 84 37 23  0\n",
      "  0  0  0  0  0  0 79 55 33 22 78  9 46  0 33 95  0 83 38  0  3 39 28 11\n",
      " 70  0 34  0  0 64 15  0]\n"
     ]
    }
   ],
   "source": [
    "#3. Замініть всі від’ємні значення на нулі.\n",
    "arr_modified = np.where(arr < 0, 0, arr)\n",
    "print(arr_modified)"
   ]
  },
  {
   "cell_type": "code",
   "execution_count": 4,
   "id": "90f227df-b5c7-45a5-9bd2-3abab7b2dbc3",
   "metadata": {},
   "outputs": [
    {
     "name": "stdout",
     "output_type": "stream",
     "text": [
      "26.32\n"
     ]
    }
   ],
   "source": [
    "#4. Обчисліть середнє значення отриманого масиву.\n",
    "print(arr_modified.mean())"
   ]
  }
 ],
 "metadata": {
  "kernelspec": {
   "display_name": "Python 3 (ipykernel)",
   "language": "python",
   "name": "python3"
  },
  "language_info": {
   "codemirror_mode": {
    "name": "ipython",
    "version": 3
   },
   "file_extension": ".py",
   "mimetype": "text/x-python",
   "name": "python",
   "nbconvert_exporter": "python",
   "pygments_lexer": "ipython3",
   "version": "3.11.1"
  }
 },
 "nbformat": 4,
 "nbformat_minor": 5
}
