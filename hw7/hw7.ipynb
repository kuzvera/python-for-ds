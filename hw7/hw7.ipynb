{
 "cells": [
  {
   "cell_type": "code",
   "execution_count": 1,
   "id": "9dff207e-b679-4553-b6d8-d7bec4d9d27b",
   "metadata": {},
   "outputs": [
    {
     "name": "stdout",
     "output_type": "stream",
     "text": [
      "   Customer_ID         Name  Age\n",
      "0            1      Ivy Red   56\n",
      "1            2    Eve Black   27\n",
      "2            3   Frank Blue   43\n",
      "3            4  Carol White   47\n",
      "4            5     John Doe   27\n",
      "   Customer_ID  Order_ID  Order_Amount\n",
      "0           47         1        155.87\n",
      "1           38         2         76.49\n",
      "2           25         3        105.73\n",
      "3           17         4        435.54\n",
      "4           36         5        229.85\n"
     ]
    }
   ],
   "source": [
    "import pandas as pd\n",
    "\n",
    "#1. Створіть два DataFrame: перший містить інформацію про клієнтів (ID, ім’я, вік), другий - інформацію про замовлення (ID клієнта, номер замовлення, сума). Файл 1 та Файл 2.\n",
    "\n",
    "customers = pd.read_csv('customer_data.csv')\n",
    "orders = pd.read_csv('order_data.csv')\n",
    "\n",
    "print(customers.head())\n",
    "print(orders.head())"
   ]
  },
  {
   "cell_type": "code",
   "execution_count": 2,
   "id": "de192e61-9b5a-4a7d-a997-61ce3bdd62b5",
   "metadata": {},
   "outputs": [
    {
     "name": "stdout",
     "output_type": "stream",
     "text": [
      "   Customer_ID        Name  Age  Order_ID  Order_Amount\n",
      "0            1     Ivy Red   56        11        461.30\n",
      "1            2   Eve Black   27         8        218.64\n",
      "2            2   Eve Black   27        53        242.12\n",
      "3            3  Frank Blue   43        46        216.27\n",
      "4            3  Frank Blue   43        68        164.31\n"
     ]
    }
   ],
   "source": [
    "#2. Виконайте злиття цих DataFrame за спільним полем ID клієнта.\n",
    "\n",
    "merged = pd.merge(customers, orders, on='Customer_ID', how='inner')\n",
    "print(merged.head())"
   ]
  },
  {
   "cell_type": "code",
   "execution_count": 3,
   "id": "37348c8c-ffa8-4870-8d0f-df677b81c666",
   "metadata": {},
   "outputs": [
    {
     "name": "stdout",
     "output_type": "stream",
     "text": [
      "   Customer_ID         Name  Age  Order_ID  Order_Amount\n",
      "0            1      Ivy Red   56        11        461.30\n",
      "3            3   Frank Blue   43        46        216.27\n",
      "4            3   Frank Blue   43        68        164.31\n",
      "5            4  Carol White   47        70        109.36\n",
      "8            6  Hank Yellow   42        49        448.23\n"
     ]
    }
   ],
   "source": [
    "#3. Відфільтруйте дані, залишивши лише клієнтів віком більше 30 років, які здійснили замовлення на суму більше 100.\n",
    "\n",
    "filtered = merged[(merged['Age'] > 30) & (merged['Order_Amount'] > 100)]\n",
    "print(filtered.head())"
   ]
  },
  {
   "cell_type": "code",
   "execution_count": 5,
   "id": "8737d4a2-4f51-45ac-ac31-f1c86a977c41",
   "metadata": {},
   "outputs": [
    {
     "name": "stdout",
     "output_type": "stream",
     "text": [
      "16719.309999999998\n"
     ]
    }
   ],
   "source": [
    "#4. Обчисліть загальну суму замовлень для цих клієнтів.\n",
    "\n",
    "res = filtered['Order_Amount'].sum()\n",
    "print(res)"
   ]
  }
 ],
 "metadata": {
  "kernelspec": {
   "display_name": "Python 3 (ipykernel)",
   "language": "python",
   "name": "python3"
  },
  "language_info": {
   "codemirror_mode": {
    "name": "ipython",
    "version": 3
   },
   "file_extension": ".py",
   "mimetype": "text/x-python",
   "name": "python",
   "nbconvert_exporter": "python",
   "pygments_lexer": "ipython3",
   "version": "3.11.1"
  }
 },
 "nbformat": 4,
 "nbformat_minor": 5
}
