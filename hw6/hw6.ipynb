{
 "cells": [
  {
   "cell_type": "code",
   "execution_count": 5,
   "id": "f1015671-ae5b-4cd5-9f63-09812ba136f8",
   "metadata": {},
   "outputs": [
    {
     "name": "stdout",
     "output_type": "stream",
     "text": [
      "   Transaction_ID         City  Transaction_Amount Transaction_Date\n",
      "0               1      Phoenix              234.63       2024-01-01\n",
      "1               2     San Jose              485.07       2024-01-04\n",
      "2               3  Los Angeles              194.32       2024-01-07\n",
      "3               4      Houston              210.82       2024-01-10\n",
      "4               5      Chicago              374.57       2024-01-13\n"
     ]
    }
   ],
   "source": [
    "import pandas as pd\n",
    "\n",
    "#1. Завантажте дані, що містять інформацію про продажі в різних містах (див. тут)\n",
    "df = pd.read_csv('transaction_analysis_data.csv', parse_dates=['Transaction_Date'])\n",
    "\n",
    "print(df.head())"
   ]
  },
  {
   "cell_type": "code",
   "execution_count": 7,
   "id": "5a7243de-0c5e-4330-b61c-ac91b05b170b",
   "metadata": {},
   "outputs": [
    {
     "name": "stdout",
     "output_type": "stream",
     "text": [
      "Середній дохід по містах:\n",
      "           City  Transaction_Amount\n",
      "0       Chicago          269.375714\n",
      "1        Dallas          186.502500\n",
      "2       Houston          263.609091\n",
      "3   Los Angeles          237.350000\n",
      "4      New York          301.871429\n",
      "5  Philadelphia          241.588462\n",
      "6       Phoenix          254.600000\n",
      "7   San Antonio          309.232143\n",
      "8     San Diego          245.571429\n",
      "9      San Jose          251.603333\n"
     ]
    }
   ],
   "source": [
    "#2. Обчисліть середній дохід для кожного міста та виведіть результати у вигляді таблиці.\n",
    "city_avg = df.groupby('City')['Transaction_Amount'].mean().reset_index()\n",
    "print(\"Середній дохід по містах:\")\n",
    "print(city_avg)"
   ]
  },
  {
   "cell_type": "code",
   "execution_count": 9,
   "id": "96fff8ea-6869-41c7-a8bd-4dad2896731e",
   "metadata": {},
   "outputs": [
    {
     "name": "stdout",
     "output_type": "stream",
     "text": [
      "\n",
      "Місто з найвищим середнім доходом: San Antonio (309.23)\n",
      "Місто з найнижчим середнім доходом: Dallas (186.50)\n"
     ]
    }
   ],
   "source": [
    "# 3. Знайдіть місто з найвищим і найнижчим доходом.\n",
    "\n",
    "max_city = city_avg.loc[city_avg['Transaction_Amount'].idxmax()]\n",
    "min_city = city_avg.loc[city_avg['Transaction_Amount'].idxmin()]\n",
    "print(f\"\\nМісто з найвищим середнім доходом: {max_city['City']} ({max_city['Transaction_Amount']:.2f})\")\n",
    "print(f\"Місто з найнижчим середнім доходом: {min_city['City']} ({min_city['Transaction_Amount']:.2f})\")"
   ]
  },
  {
   "cell_type": "code",
   "execution_count": 10,
   "id": "0dc60ba7-57c7-4f7b-9524-65b72cef83e3",
   "metadata": {},
   "outputs": [
    {
     "name": "stdout",
     "output_type": "stream",
     "text": [
      "\n",
      "Кількість транзакцій за місяцями:\n",
      "  Transaction_Month  transactions\n",
      "0           2024-01            11\n",
      "1           2024-02             9\n",
      "2           2024-03            11\n",
      "3           2024-04            10\n",
      "4           2024-05            10\n",
      "5           2024-06            10\n",
      "6           2024-07            10\n",
      "7           2024-08            11\n",
      "8           2024-09            10\n",
      "9           2024-10             8\n"
     ]
    }
   ],
   "source": [
    "# 4. Відобразьте кількість транзакцій для кожного місяця, використовуючи групування за датою.\n",
    "\n",
    "df['Transaction_Month'] = df['Transaction_Date'].dt.to_period('M')\n",
    "transactions_per_month = df.groupby('Transaction_Month').size().reset_index(name='transactions')\n",
    "print(\"\\nКількість транзакцій за місяцями:\")\n",
    "print(transactions_per_month)"
   ]
  }
 ],
 "metadata": {
  "kernelspec": {
   "display_name": "Python 3 (ipykernel)",
   "language": "python",
   "name": "python3"
  },
  "language_info": {
   "codemirror_mode": {
    "name": "ipython",
    "version": 3
   },
   "file_extension": ".py",
   "mimetype": "text/x-python",
   "name": "python",
   "nbconvert_exporter": "python",
   "pygments_lexer": "ipython3",
   "version": "3.11.1"
  }
 },
 "nbformat": 4,
 "nbformat_minor": 5
}
